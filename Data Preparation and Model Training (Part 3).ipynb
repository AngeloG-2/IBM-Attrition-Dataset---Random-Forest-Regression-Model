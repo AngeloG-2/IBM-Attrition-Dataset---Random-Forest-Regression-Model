{
 "cells": [
  {
   "cell_type": "markdown",
   "id": "71f33191",
   "metadata": {},
   "source": [
    "<font size=\"5\">PURPOSE OF PROJECT: CREATE A REGRESSION MODEL TO PREDICT MONTHLY INCOME </font>"
   ]
  },
  {
   "cell_type": "markdown",
   "id": "5bce2760",
   "metadata": {},
   "source": [
    "<font size=\"4\"> My project is split into 3 parts. Each notebook focuses on a specific portion of the machine learning workflow. This notebook is part 3 out of 3 of my Regression Model Project. </font>\n",
    "    \n",
    "<font size=\"4\"> The focus in this notebook are data preparation, model training, and model evaluation. See part 1 and part 2 for notebooks on data cleaning and feature selection. </font>"
   ]
  },
  {
   "attachments": {
    "image.png": {
     "image/png": "[encoded data removed]"
    }
   },
   "cell_type": "markdown",
   "id": "4c7b0521",
   "metadata": {},
   "source": [
    "<font size=\"4\"> Model Performance Summary </font>\n",
    "\n",
    "Training Score: 0.9621\n",
    "\n",
    "Testing Score:  0.9479\n",
    "\n",
    "Below is a distribution of actual vs. predicted values. As you can see, the model can predict monthly incomes on the testing set quite well. Furthermore, there are no signs of overfitting.\n",
    "\n",
    "![image.png](attachment:image.png)"
   ]
  },
  {
   "cell_type": "code",
   "execution_count": 16,
   "id": "be0532e8",
   "metadata": {},
   "outputs": [],
   "source": [
    "from sklearn.pipeline import Pipeline\n",
    "from sklearn.model_selection import train_test_split\n",
    "from sklearn.ensemble import RandomForestRegressor\n",
    "from sklearn.model_selection import GridSearchCV\n",
    "import pandas as pd\n",
    "import seaborn as sns\n",
    "import matplotlib as mpl\n",
    "import matplotlib.pyplot as plt"
   ]
  },
  {
   "cell_type": "code",
   "execution_count": 17,
   "id": "48513dbb",
   "metadata": {},
   "outputs": [],
   "source": [
    "'''\n",
    "Read the CSV.\n",
    "\n",
    "NOTE: This data was cleaned in notebook part 1.\n",
    "'''\n",
    "\n",
    "df = pd.read_csv('cleaned_data_jda_group1_ibm.csv')"
   ]
  },
  {
   "cell_type": "code",
   "execution_count": 18,
   "id": "25bb1c7d",
   "metadata": {},
   "outputs": [],
   "source": [
    "'''\n",
    "One hot encode all categorical variables and split the data set into training and testing sets.\n",
    "'''\n",
    "\n",
    "onehot = pd.get_dummies(data=df, columns= ['Attrition','JobRole','EducationField'])\n",
    "\n",
    "X = onehot.drop(['MonthlyIncome','Unnamed: 0'],axis=1)\n",
    "y = onehot['MonthlyIncome']\n",
    "\n",
    "X_train, X_test, y_train, y_test = train_test_split( X, y, test_size=0.25, random_state=42)\n",
    "\n"
   ]
  },
  {
   "cell_type": "code",
   "execution_count": 19,
   "id": "86a6cedf",
   "metadata": {},
   "outputs": [
    {
     "data": {
      "text/plain": [
       "GridSearchCV(estimator=RandomForestRegressor(), n_jobs=-1,\n",
       "             param_grid={'max_depth': [1, 3, 5, 7, 10, 15, 20, 25, 30, 45],\n",
       "                         'min_samples_leaf': [1, 3, 6, 10, 15, 20, 25, 50, 75,\n",
       "                                              100]})"
      ]
     },
     "execution_count": 19,
     "metadata": {},
     "output_type": "execute_result"
    }
   ],
   "source": [
    "'''\n",
    "Use GridSearchCV on the training set for hyperparameter tuning to maximize model performance.\n",
    "'''\n",
    "\n",
    "#n_jobs is set to -1, to take advanatge of multiple threads. This makes GridSearchCV faster.\n",
    "grid = GridSearchCV(estimator=RandomForestRegressor(),\n",
    "             param_grid={'max_depth': [1, 3, 5, 7, 10, 15, 20,25,30,45], \n",
    "                         'min_samples_leaf': [1,3,6,10,15,20,25,50,75,100]},n_jobs=-1)\n",
    "\n",
    "grid.fit(X_train,y_train)"
   ]
  },
  {
   "cell_type": "code",
   "execution_count": 20,
   "id": "de6f179f",
   "metadata": {},
   "outputs": [
    {
     "data": {
      "text/plain": [
       "{'max_depth': 5, 'min_samples_leaf': 1}"
      ]
     },
     "execution_count": 20,
     "metadata": {},
     "output_type": "execute_result"
    }
   ],
   "source": [
    "'''\n",
    "Get the best parameters from GridSearchCV.\n",
    "'''\n",
    "\n",
    "grid.best_params_"
   ]
  },
  {
   "cell_type": "code",
   "execution_count": 21,
   "id": "b1e6dabb",
   "metadata": {},
   "outputs": [
    {
     "data": {
      "text/plain": [
       "RandomForestRegressor(max_depth=5)"
      ]
     },
     "execution_count": 21,
     "metadata": {},
     "output_type": "execute_result"
    }
   ],
   "source": [
    "'''\n",
    "Fit the Random Forest Regressor with the optimal hyperparameters from GridSearchCV.\n",
    "'''\n",
    "\n",
    "rf = RandomForestRegressor(max_depth=5,min_samples_leaf=1)\n",
    "\n",
    "rf.fit(X_train,y_train)"
   ]
  },
  {
   "cell_type": "code",
   "execution_count": 25,
   "id": "5b214bfd",
   "metadata": {},
   "outputs": [
    {
     "data": {
      "text/plain": [
       "0.9621096785225738"
      ]
     },
     "execution_count": 25,
     "metadata": {},
     "output_type": "execute_result"
    }
   ],
   "source": [
    "'''\n",
    "r-squared for the training set.\n",
    "'''\n",
    "\n",
    "rf.score(X_train,y_train)"
   ]
  },
  {
   "cell_type": "code",
   "execution_count": 26,
   "id": "81541620",
   "metadata": {},
   "outputs": [
    {
     "data": {
      "text/plain": [
       "0.9479530422727176"
      ]
     },
     "execution_count": 26,
     "metadata": {},
     "output_type": "execute_result"
    }
   ],
   "source": [
    "'''\n",
    "r-squared for the testing set.\n",
    "'''\n",
    "\n",
    "rf.score(X_test,y_test)"
   ]
  },
  {
   "cell_type": "code",
   "execution_count": 27,
   "id": "aeef2a57",
   "metadata": {},
   "outputs": [
    {
     "name": "stderr",
     "output_type": "stream",
     "text": [
      "C:\\Users\\Angelo Gaerlan\\anaconda3\\lib\\site-packages\\seaborn\\distributions.py:2619: FutureWarning: `distplot` is a deprecated function and will be removed in a future version. Please adapt your code to use either `displot` (a figure-level function with similar flexibility) or `kdeplot` (an axes-level function for kernel density plots).\n",
      "  warnings.warn(msg, FutureWarning)\n",
      "C:\\Users\\Angelo Gaerlan\\anaconda3\\lib\\site-packages\\seaborn\\distributions.py:2619: FutureWarning: `distplot` is a deprecated function and will be removed in a future version. Please adapt your code to use either `displot` (a figure-level function with similar flexibility) or `kdeplot` (an axes-level function for kernel density plots).\n",
      "  warnings.warn(msg, FutureWarning)\n"
     ]
    },
    {
     "data": {
      "text/plain": [
       "<matplotlib.legend.Legend at 0x1a115f6f850>"
      ]
     },
     "execution_count": 27,
     "metadata": {},
     "output_type": "execute_result"
    },
    {
     "data": {
      "image/png": "[encoded data removed]",
      "text/plain": [
       "<Figure size 432x288 with 1 Axes>"
      ]
     },
     "metadata": {
      "needs_background": "light"
     },
     "output_type": "display_data"
    }
   ],
   "source": [
    "'''\n",
    "Plot the distributions of actual vs. predicted.\n",
    "'''\n",
    "\n",
    "test_predict = rf.predict(X_test)\n",
    "test_labels = y_test\n",
    "\n",
    "ax1 = sns.distplot(test_predict, hist=False, color= 'r', label = 'predicted')\n",
    "sns.distplot(test_labels, hist=False, color='b', label='actual', ax=ax1)\n",
    "plt.legend(['actual','predicted'])"
   ]
  }
 ],
 "metadata": {
  "kernelspec": {
   "display_name": "Python 3 (ipykernel)",
   "language": "python",
   "name": "python3"
  },
  "language_info": {
   "codemirror_mode": {
    "name": "ipython",
    "version": 3
   },
   "file_extension": ".py",
   "mimetype": "text/x-python",
   "name": "python",
   "nbconvert_exporter": "python",
   "pygments_lexer": "ipython3",
   "version": "3.8.12"
  }
 },
 "nbformat": 4,
 "nbformat_minor": 5
}
